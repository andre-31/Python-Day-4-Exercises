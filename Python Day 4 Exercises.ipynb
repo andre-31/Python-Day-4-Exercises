{
 "cells": [
  {
   "cell_type": "markdown",
   "metadata": {},
   "source": [
    "1. Create a dictionary named pairs with key value pairs of hello and fire, 3 and seven, strong and 45. Print out the dictionary."
   ]
  },
  {
   "cell_type": "code",
   "execution_count": 1,
   "metadata": {},
   "outputs": [
    {
     "name": "stdout",
     "output_type": "stream",
     "text": [
      "{'hello': 'fire', 3: 'seven', 'strong': 45}\n"
     ]
    }
   ],
   "source": [
    "pairs = {\n",
    "    \"hello\" : \"fire\",\n",
    "    3 : \"seven\",\n",
    "    \"strong\" : 45,\n",
    "}\n",
    "print(pairs)"
   ]
  },
  {
   "cell_type": "markdown",
   "metadata": {},
   "source": [
    "2. Add welcome and 56 pair into pairs dictionary. Print out the dictionary. "
   ]
  },
  {
   "cell_type": "code",
   "execution_count": 2,
   "metadata": {},
   "outputs": [
    {
     "name": "stdout",
     "output_type": "stream",
     "text": [
      "{'hello': 'fire', 3: 'seven', 'strong': 45, 'welcome': 56}\n"
     ]
    }
   ],
   "source": [
    "pairs[\"welcome\"] = 56\n",
    "print(pairs)"
   ]
  },
  {
   "cell_type": "markdown",
   "metadata": {},
   "source": [
    "3. Delete one item from the Dictionary. Print deleted item and the dictionary."
   ]
  },
  {
   "cell_type": "code",
   "execution_count": 3,
   "metadata": {},
   "outputs": [
    {
     "name": "stdout",
     "output_type": "stream",
     "text": [
      "56\n",
      "{'hello': 'fire', 3: 'seven', 'strong': 45}\n"
     ]
    }
   ],
   "source": [
    "afterpop = pairs.pop(\"welcome\")\n",
    "print(afterpop)\n",
    "print(pairs)"
   ]
  },
  {
   "cell_type": "markdown",
   "metadata": {},
   "source": [
    "4. Print the value of an item where key is 3 from the dicitonary"
   ]
  },
  {
   "cell_type": "code",
   "execution_count": 7,
   "metadata": {},
   "outputs": [
    {
     "name": "stdout",
     "output_type": "stream",
     "text": [
      "seven\n"
     ]
    }
   ],
   "source": [
    "pairs_pop = pairs.pop(3)\n",
    "print(pairs_pop)"
   ]
  },
  {
   "cell_type": "markdown",
   "metadata": {},
   "source": [
    "5. Try to find out if the key called hello exist. Print out the key is found if it is there otherwise print out the key is not there."
   ]
  },
  {
   "cell_type": "code",
   "execution_count": 3,
   "metadata": {},
   "outputs": [
    {
     "name": "stdout",
     "output_type": "stream",
     "text": [
      "fire\n"
     ]
    }
   ],
   "source": [
    "pairs = {\n",
    "    \"hello\" : \"fire\",\n",
    "    3 : \"seven\",\n",
    "    \"strong\" : 45,\n",
    "}\n",
    "\n",
    "pairs[\"welcome\"] = 56\n",
    "\n",
    "if \"hello\" in pairs :\n",
    "    print(pairs.pop(\"hello\"))\n",
    "else :    \n",
    "    print(\"the key is not there\")\n",
    "    "
   ]
  },
  {
   "cell_type": "markdown",
   "metadata": {},
   "source": [
    "6. Loop through the dictionary and print out each value. "
   ]
  },
  {
   "cell_type": "code",
   "execution_count": 13,
   "metadata": {},
   "outputs": [
    {
     "name": "stdout",
     "output_type": "stream",
     "text": [
      "('welcome', 56)\n",
      "('strong', 45)\n",
      "(3, 'seven')\n",
      "('hello', 'fire')\n",
      "{}\n",
      "{'hello': 'fire', 3: 'seven', 'strong': 45, 'welcome': 56}\n"
     ]
    }
   ],
   "source": [
    "pairs = {\n",
    "    \"hello\" : \"fire\",\n",
    "    3 : \"seven\",\n",
    "    \"strong\" : 45,\n",
    "}\n",
    "pairs[\"welcome\"] = 56\n",
    "pairs_copy = pairs.copy()\n",
    "\n",
    "sz = len(pairs_copy)\n",
    "index = 0\n",
    "\n",
    "while index < sz :\n",
    "    attr = pairs_copy.popitem();\n",
    "    print(attr)\n",
    "    index += 1\n",
    "\n",
    "print(pairs_copy)\n",
    "print(pairs)"
   ]
  },
  {
   "cell_type": "markdown",
   "metadata": {},
   "source": [
    "7. Loop through the dictionary and print out each key."
   ]
  },
  {
   "cell_type": "code",
   "execution_count": 10,
   "metadata": {},
   "outputs": [
    {
     "name": "stdout",
     "output_type": "stream",
     "text": [
      "hello\n",
      "3\n",
      "strong\n",
      "welcome\n"
     ]
    }
   ],
   "source": [
    "for key in pairs.keys():\n",
    "    print(key)"
   ]
  },
  {
   "cell_type": "markdown",
   "metadata": {},
   "source": [
    "8. Loop through the dictionary and print out each key and value pair. "
   ]
  },
  {
   "cell_type": "code",
   "execution_count": 14,
   "metadata": {},
   "outputs": [
    {
     "name": "stdout",
     "output_type": "stream",
     "text": [
      "('welcome', 56)\n",
      "('strong', 45)\n",
      "(3, 'seven')\n",
      "('hello', 'fire')\n",
      "{}\n",
      "{'hello': 'fire', 3: 'seven', 'strong': 45, 'welcome': 56}\n"
     ]
    }
   ],
   "source": [
    "pairs = {\n",
    "    \"hello\" : \"fire\",\n",
    "    3 : \"seven\",\n",
    "    \"strong\" : 45,\n",
    "}\n",
    "pairs[\"welcome\"] = 56\n",
    "pairs_copy = pairs.copy()\n",
    "\n",
    "sz = len(pairs_copy)\n",
    "index = 0\n",
    "\n",
    "while index < sz :\n",
    "    attr = pairs_copy.popitem();\n",
    "    print(attr)\n",
    "    index += 1\n",
    "\n",
    "print(pairs_copy)\n",
    "print(pairs)"
   ]
  },
  {
   "cell_type": "markdown",
   "metadata": {},
   "source": [
    "9. Make a nested dictionary called parent with 2 children's information: name, age, gender. Print out parent."
   ]
  },
  {
   "cell_type": "code",
   "execution_count": 6,
   "metadata": {},
   "outputs": [
    {
     "name": "stdout",
     "output_type": "stream",
     "text": [
      "{'Andre': {'name': 'Andre', 'age': 16, 'gender': 'male'}, 'Andrew': {'name': 'Andrew', 'age': 15, 'gender': 'male'}}\n",
      "{'name': 'Andre', 'age': 16, 'gender': 'male'}\n",
      "{'name': 'Andrew', 'age': 15, 'gender': 'male'}\n"
     ]
    }
   ],
   "source": [
    "parent = {'Andre':{'name':'Andre','age':16,'gender':'male'},\n",
    "         'Andrew':{'name':'Andrew','age':15,'gender':'male'}}\n",
    "\n",
    "print(parent)\n",
    "print(parent['Andre'])\n",
    "print(parent['Andrew'])"
   ]
  },
  {
   "cell_type": "markdown",
   "metadata": {},
   "source": [
    "10. Add new child to above dictionary. Print out the name of all children."
   ]
  },
  {
   "cell_type": "code",
   "execution_count": 15,
   "metadata": {},
   "outputs": [
    {
     "name": "stdout",
     "output_type": "stream",
     "text": [
      "Andre\n",
      "Andrew\n",
      "Charlie\n"
     ]
    }
   ],
   "source": [
    "parent = {'Andre':{'name':'Andre','age':16,'gender':'male'},\n",
    "         'Andrew':{'name':'Andrew','age':15,'gender':'male'}}\n",
    "\n",
    "parent['Charlie'] = \"name\"\n",
    "\n",
    "for key in parent.keys():\n",
    "    print(key)"
   ]
  },
  {
   "cell_type": "markdown",
   "metadata": {},
   "source": [
    "11. Create a Test Scores program that gets the name of students and test score from a user. Then, generate a list of students who passed and a list of students who failed where passing test score is 60 or above. "
   ]
  },
  {
   "cell_type": "code",
   "execution_count": 46,
   "metadata": {},
   "outputs": [
    {
     "name": "stdout",
     "output_type": "stream",
     "text": [
      "Test Scores program\n",
      "Enter a name (or 'q' to quit) :andre\n",
      "What is your score? :26\n",
      "Enter a name (or 'q' to quit) :q\n",
      "{'andre': 26}\n",
      "andre\n"
     ]
    }
   ],
   "source": [
    "print(\"Test Scores program\")\n",
    "\n",
    "\n",
    "\n",
    "scores = {}\n",
    "while True :\n",
    "    name = input(\"Enter a name (or 'q' to quit) :\")\n",
    "    if name == 'q' :\n",
    "        break\n",
    "    scores[name] = int(input(\"What is your score? :\")) \n",
    "\n",
    "print(scores)\n",
    "\n",
    "for x in scores:\n",
    "    print(x)"
   ]
  },
  {
   "cell_type": "code",
   "execution_count": 47,
   "metadata": {},
   "outputs": [
    {
     "name": "stdout",
     "output_type": "stream",
     "text": [
      "{26: 'andre failed'}\n"
     ]
    }
   ],
   "source": [
    "scores_result = {}\n",
    "for x in scores:\n",
    "    if value in scores_result :\n",
    "        scores_result[value] > 60\n",
    "        print(f\"{x} passed\")\n",
    "    else :\n",
    "        scores_result[value] = f\"{x} failed\"\n",
    "        \n",
    "print(scores_result)  "
   ]
  },
  {
   "cell_type": "markdown",
   "metadata": {},
   "source": [
    "12. Create a Word Counter program that gets a string of text from a user and then counts the number of times a word occrs in the string. \n",
    "\n",
    "The output should look something like this:\n",
    "\n",
    "    The Word Counter Program\n",
    "    \n",
    "    Enter a text string: \n",
    "    Humpty Dumpty sat on a wall, Humpty Dumpty had a great fall. All the king’s horses and all the king’s men couldn’t put Humpty together again.\n",
    "\n",
    "    a : 2\n",
    "    again : 1\n",
    "    all : 2\n",
    "    and : 1\n",
    "    couldn’t : 1\n",
    "    dumpty : 2\n",
    "    fall : 1\n",
    "    great : 1\n",
    "    had : 1\n",
    "    horses : 1\n",
    "    humpty : 3\n",
    "    king’s : 2\n",
    "    men : 1\n",
    "    on : 1\n",
    "    put : 1\n",
    "    sat : 1\n",
    "    the : 2\n",
    "    together : 1\n",
    "    wall : 1\n",
    "\n",
    "    There were total 26 words in the text string   "
   ]
  },
  {
   "cell_type": "code",
   "execution_count": null,
   "metadata": {},
   "outputs": [],
   "source": []
  }
 ],
 "metadata": {
  "kernelspec": {
   "display_name": "Python 3",
   "language": "python",
   "name": "python3"
  }
 },
 "nbformat": 4,
 "nbformat_minor": 4
}
